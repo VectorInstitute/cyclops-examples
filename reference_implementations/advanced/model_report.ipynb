{
  "cells": [
    {
      "cell_type": "markdown",
      "metadata": {
        "id": "5p1hM8xDP3wO"
      },
      "source": [
        "# Excercise 04 - Model Report\n",
        "\n",
        "Welcome to the fourth hands-on excercise!\n",
        "\n",
        "In this excercise, you will learn about the CyclOps model report. The model report is essentially a report designed for clinicians, data scientists and folks who wish to view information on the clinical ML model. At the end of this excercise, you will be able to:\n",
        "\n",
        "1. Create, customize and use model reports for your clinical ML model\n",
        "2. Use the backend report API to log ML model information to the model report"
      ]
    },
    {
      "cell_type": "markdown",
      "metadata": {
        "tags": [],
        "id": "Vj39dX_QP3wS"
      },
      "source": [
        "## Step 01 - Install CyclOps\n",
        "\n",
        "CyclOps is available as a [python package](https://pypi.org/project/pycyclops/) and can be installed using ``pip``. Note that we now install ``CyclOps`` with and extra dependency ``xgboost`` since we will be using the [xgboost](https://xgboost.readthedocs.io/en/stable/python/python_api.html) library.\n",
        "\n",
        "``Colab`` would ask you to restart the session, which is normal. Click on ``Restart Session`` and re-run the cell to install ``CyclOps``.\n",
        "\n",
        "**NOTE**: We uninstall ``cupy`` from the colab runtime to avoid conflicts with ``CyclOps`` which would attempt to use ``cupy`` if it is installed. Since the runtime does not support GPUs, we will uninstall ``cupy``."
      ]
    },
    {
      "cell_type": "code",
      "execution_count": null,
      "metadata": {
        "tags": [],
        "id": "uNppDmVNP3wT"
      },
      "outputs": [],
      "source": [
        "# ruff: noqa: E402\n",
        "!pip uninstall cupy-cuda12x -y\n",
        "!pip install 'pycyclops[xgboost]'\n",
        "!pip install ucimlrepo"
      ]
    },
    {
      "cell_type": "markdown",
      "source": [
        "## Step 02 - Learn about the different sections of the model report!"
      ],
      "metadata": {
        "id": "ob5u3opTRPxw"
      }
    },
    {
      "cell_type": "markdown",
      "metadata": {
        "id": "cnlxniWGP3wW"
      },
      "source": [
        "CyclOps offers a package for documentation of the model through a model report. The `ModelReport` class is used to populate and generate the model report as an HTML file. The model report has the following sections:\n",
        "\n",
        "#### Overview\n",
        "Provides a high level overview of how the model is doing (a quick glance of important metrics), and how it is doing over time (performance over several metrics and subgroups over time).\n",
        "\n",
        "#### Datasets\n",
        "High level statistics of the training data, including changes in distribution over time.\n",
        "\n",
        "#### Quantitative Analysis\n",
        "This section contains additional detailed performance metrics of the model for different sets of the data and subpopulations.\n",
        "\n",
        "#### Fairness Analysis\n",
        "This section contains the fairness metrics of the model.\n",
        "\n",
        "#### Model Details\n",
        "This section contains descriptive metadata about the model such as the owners, version, license, etc.\n",
        "\n",
        "#### Model Parameters\n",
        "This section contains the technical details of the model such as the model architecture, training parameters, etc.\n",
        "\n",
        "#### Considerations\n",
        "This section contains descriptions of the considerations involved in developing and using the model such as the intended use, limitations, etc.\n",
        "\n",
        "\n",
        "Let's now create a model report object."
      ]
    },
    {
      "cell_type": "markdown",
      "source": [
        "## Step 03 - Create a model report object and learn about the API methods."
      ],
      "metadata": {
        "id": "i69X2eSMSJWE"
      }
    },
    {
      "cell_type": "code",
      "execution_count": null,
      "metadata": {
        "tags": [],
        "id": "xqihWDRqP3wV"
      },
      "outputs": [],
      "source": [
        "from cyclops.report import ModelCardReport\n",
        "from cyclops.report.plot.classification import ClassificationPlotter"
      ]
    },
    {
      "cell_type": "code",
      "execution_count": null,
      "metadata": {
        "id": "Ac6Ivs_FP3wW"
      },
      "outputs": [],
      "source": [
        "report = ModelCardReport()"
      ]
    },
    {
      "cell_type": "markdown",
      "source": [
        "Let's take a look at the [API documentation](https://vectorinstitute.github.io/cyclops/api/reference/api/_autosummary/cyclops.report.report.ModelCardReport.html#cyclops.report.report.ModelCardReport) to learn more about the different API methods!"
      ],
      "metadata": {
        "id": "MleCKJzbR3sD"
      }
    },
    {
      "cell_type": "markdown",
      "source": [
        "Now that we know about a few API functions, let's use one to log information about the dataset. We will use the same dataset from the previous excercies."
      ],
      "metadata": {
        "id": "681qKg4-SWZF"
      }
    },
    {
      "cell_type": "code",
      "source": [
        "import copy\n",
        "import inspect\n",
        "from datetime import date\n",
        "\n",
        "import numpy as np\n",
        "import pandas as pd\n",
        "import plotly.express as px\n",
        "from ucimlrepo import fetch_ucirepo"
      ],
      "metadata": {
        "id": "-lr7pfXQRhpa"
      },
      "execution_count": null,
      "outputs": []
    },
    {
      "cell_type": "code",
      "execution_count": null,
      "metadata": {
        "tags": [],
        "id": "LxVUJ075P3wX"
      },
      "outputs": [],
      "source": [
        "diabetes_130_data = fetch_ucirepo(id=296)\n",
        "features = diabetes_130_data[\"data\"][\"features\"]\n",
        "targets = diabetes_130_data[\"data\"][\"targets\"]\n",
        "metadata = diabetes_130_data[\"metadata\"]\n",
        "variables = diabetes_130_data[\"variables\"]"
      ]
    },
    {
      "cell_type": "code",
      "source": [
        "features"
      ],
      "metadata": {
        "id": "KKL8IAuyUiaV"
      },
      "execution_count": null,
      "outputs": []
    },
    {
      "cell_type": "markdown",
      "metadata": {
        "id": "DxfI9eV6P3wg"
      },
      "source": [
        "Let's document using the `log_dataset` method, which takes the following arguments:\n",
        "- description: A description of the dataset.\n",
        "- citation: The citation for the dataset.\n",
        "- link: A link to a resource for the dataset.\n",
        "- license_id: The SPDX license identifier for the dataset.\n",
        "- version: The version of the dataset.\n",
        "- features: A list of features in the dataset.\n",
        "- split: The split of the dataset (train, test, validation, etc.).\n",
        "- sensitive_features: A list of sensitive features used to train/evaluate the model.\n",
        "- sensitive_feature_justification: A justification for the sensitive features used to train/evaluate the model."
      ]
    },
    {
      "cell_type": "code",
      "execution_count": null,
      "metadata": {
        "id": "AmDhWDaNP3wg"
      },
      "outputs": [],
      "source": [
        "report.log_dataset(\n",
        "    description=metadata[\"abstract\"],\n",
        "    citation=inspect.cleandoc(\n",
        "        \"\"\"\n",
        "        @article{strack2014impact,\n",
        "          title={Impact of HbA1c measurement on hospital readmission rates: analysis of 70,000 clinical database patient records},\n",
        "          author={Strack, Beata and DeShazo, Jonathan P and Gennings, Chris and Olmo, Juan L and Ventura, Sebastian and Cios, Krzysztof J and Clore, John N and others},\n",
        "          journal={BioMed research international},\n",
        "          volume={2014},\n",
        "          year={2014},\n",
        "          publisher={Hindawi}\n",
        "        }\n",
        "    \"\"\",\n",
        "    ),\n",
        "    link=metadata[\"repository_url\"],\n",
        "    license_id=\"CC0-1.0\",\n",
        "    version=\"Version 1\",\n",
        "    features=list(features.columns),\n",
        "    sensitive_features=[\"gender\", \"age\", \"race\"],\n",
        "    sensitive_feature_justification=\"Demographic information like age and gender \\\n",
        "        often have a strong correlation with health outcomes. For example, older \\\n",
        "        patients are more likely to have a higher risk of readmission.\",\n",
        ")"
      ]
    },
    {
      "cell_type": "markdown",
      "metadata": {
        "id": "65AkqDVTP3wZ"
      },
      "source": [
        "### Sex values"
      ]
    },
    {
      "cell_type": "code",
      "execution_count": null,
      "metadata": {
        "tags": [],
        "id": "UxMjbkGkP3wZ"
      },
      "outputs": [],
      "source": [
        "fig = px.pie(features, names=\"gender\")\n",
        "\n",
        "fig.update_layout(\n",
        "    title=\"Gender Distribution\",\n",
        ")\n",
        "\n",
        "fig.show()"
      ]
    },
    {
      "cell_type": "markdown",
      "metadata": {
        "id": "n404xkcfP3wZ"
      },
      "source": [
        "**Add the figure to the report**"
      ]
    },
    {
      "cell_type": "code",
      "execution_count": null,
      "metadata": {
        "id": "3ZteG4ZZP3wZ"
      },
      "outputs": [],
      "source": [
        "report.log_plotly_figure(\n",
        "    fig=fig,\n",
        "    caption=\"Gender Distribution\",\n",
        "    section_name=\"datasets\",\n",
        ")"
      ]
    },
    {
      "cell_type": "markdown",
      "metadata": {
        "id": "nQRDkSuwP3wZ"
      },
      "source": [
        "###  Age distribution"
      ]
    },
    {
      "cell_type": "code",
      "execution_count": null,
      "metadata": {
        "tags": [],
        "id": "z3f8CsAoP3wZ"
      },
      "outputs": [],
      "source": [
        "fig = px.histogram(features, x=\"age\")\n",
        "fig.update_layout(\n",
        "    title=\"Age Distribution\",\n",
        "    xaxis_title=\"Age\",\n",
        "    yaxis_title=\"Count\",\n",
        "    bargap=0.2,\n",
        ")\n",
        "\n",
        "fig.show()"
      ]
    },
    {
      "cell_type": "markdown",
      "metadata": {
        "id": "R_iGUe4wP3wZ"
      },
      "source": [
        "**Add the figure to the report**"
      ]
    },
    {
      "cell_type": "code",
      "execution_count": null,
      "metadata": {
        "id": "L9BfHhyPP3wZ"
      },
      "outputs": [],
      "source": [
        "report.log_plotly_figure(\n",
        "    fig=fig,\n",
        "    caption=\"Age Distribution\",\n",
        "    section_name=\"datasets\",\n",
        ")"
      ]
    },
    {
      "cell_type": "markdown",
      "metadata": {
        "id": "BNMfRCMtP3wm"
      },
      "source": [
        "Now that we have logged information about the dataset, we can also log information about the model we trained in the previous excercise.\n",
        "\n",
        "\n",
        "Let's start with populating the model details section, which includes the following fields by default:\n",
        "- description: A high-level description of the model and its usage for a general audience.\n",
        "- version: The version of the model.\n",
        "- owners: The individuals or organizations that own the model.\n",
        "- license: The license under which the model is made available.\n",
        "- citation: The citation for the model.\n",
        "- references: Links to resources that are relevant to the model.\n",
        "- path: The path to where the model is stored.\n",
        "- regulatory_requirements: The regulatory requirements that are relevant to the model.\n",
        "\n",
        "We can add additional fields to the model details section by passing a dictionary to the `log_from_dict` method and specifying the section name as `model_details`. You can also use the `log_descriptor` method to add a new field object with a `description` attribute to any section of the model card."
      ]
    },
    {
      "cell_type": "code",
      "execution_count": null,
      "metadata": {
        "id": "euXaAgEMP3wn"
      },
      "outputs": [],
      "source": [
        "report.log_from_dict(\n",
        "    data={\n",
        "        \"name\": \"Readmission Prediction Model\",\n",
        "        \"description\": \"The model was trained on the Diabetes 130-US Hospitals for Years 1999-2008 \\\n",
        "        dataset to predict risk of readmission within 30 days of discharge.\",\n",
        "    },\n",
        "    section_name=\"model_details\",\n",
        ")\n",
        "\n",
        "report.log_version(\n",
        "    version_str=\"0.0.1\",\n",
        "    date=str(date.today()),\n",
        "    description=\"Initial Release\",\n",
        ")\n",
        "report.log_owner(\n",
        "    name=\"CyclOps Team\",\n",
        "    contact=\"vectorinstitute.github.io/cyclops/\",\n",
        "    email=\"cyclops@vectorinstitute.ai\",\n",
        ")\n",
        "report.log_license(identifier=\"Apache-2.0\")\n",
        "report.log_reference(\n",
        "    link=\"https://xgboost.readthedocs.io/en/stable/python/python_api.html\",  # noqa: E501\n",
        ")"
      ]
    },
    {
      "cell_type": "markdown",
      "metadata": {
        "id": "2PXniKMpP3wn"
      },
      "source": [
        "Next, let's populate the considerations section, which includes the following fields by default:\n",
        "- users: The intended users of the model.\n",
        "- use_cases: The use cases for the model. These could be primary, downstream or out-of-scope use cases.\n",
        "- fairness_assessment: A description of the benefits and harms of the model for different groups as well as the steps taken to mitigate the harms.\n",
        "- ethical_considerations: The risks associated with using the model and the steps taken to mitigate them. This can be populated using the  `log_risk` method.\n",
        "\n"
      ]
    },
    {
      "cell_type": "code",
      "execution_count": null,
      "metadata": {
        "id": "L2l5vbbyP3wn"
      },
      "outputs": [],
      "source": [
        "report.log_from_dict(\n",
        "    data={\n",
        "        \"users\": [\n",
        "            {\"description\": \"Hospitals\"},\n",
        "            {\"description\": \"Clinicians\"},\n",
        "        ],\n",
        "    },\n",
        "    section_name=\"considerations\",\n",
        ")\n",
        "report.log_user(description=\"ML Engineers\")\n",
        "report.log_use_case(\n",
        "    description=\"Predicting risk of readmission.\",\n",
        "    kind=\"primary\",\n",
        ")\n",
        "report.log_use_case(\n",
        "    description=\"Predicting risk of pathologies and conditions other\\\n",
        "    than risk of readmission.\",\n",
        "    kind=\"out-of-scope\",\n",
        ")\n",
        "report.log_fairness_assessment(\n",
        "    affected_group=\"sex, age\",\n",
        "    benefit=\"Improved health outcomes for patients.\",\n",
        "    harm=\"Biased predictions for patients in certain groups (e.g. older patients) \\\n",
        "        may lead to worse health outcomes.\",\n",
        "    mitigation_strategy=\"We will monitor the performance of the model on these groups \\\n",
        "        and retrain the model if the performance drops below a certain threshold.\",\n",
        ")\n",
        "report.log_risk(\n",
        "    risk=\"The model may be used to make decisions that affect the health of patients.\",\n",
        "    mitigation_strategy=\"The model should be continuously monitored for performance \\\n",
        "        and retrained if the performance drops below a certain threshold.\",\n",
        ")"
      ]
    },
    {
      "cell_type": "markdown",
      "source": [
        "## Step 04 - Export the report and view it in a browser tab."
      ],
      "metadata": {
        "id": "2QpFt8lKVBmQ"
      }
    },
    {
      "cell_type": "code",
      "source": [
        "report_path = report.export(\n",
        "    output_filename=\"readmission_report_periodic.html\",\n",
        "    synthetic_timestamp=\"2024-06-23\",\n",
        ")"
      ],
      "metadata": {
        "id": "1OlrtjCQU_Ek"
      },
      "execution_count": null,
      "outputs": []
    },
    {
      "cell_type": "markdown",
      "source": [],
      "metadata": {
        "id": "iLCH6qJvVRte"
      }
    }
  ],
  "metadata": {
    "kernelspec": {
      "display_name": "Python 3 (ipykernel)",
      "language": "python",
      "name": "python3"
    },
    "language_info": {
      "codemirror_mode": {
        "name": "ipython",
        "version": 3
      },
      "file_extension": ".py",
      "mimetype": "text/x-python",
      "name": "python",
      "nbconvert_exporter": "python",
      "pygments_lexer": "ipython3",
      "version": "3.10.12"
    },
    "colab": {
      "provenance": []
    }
  },
  "nbformat": 4,
  "nbformat_minor": 0
}