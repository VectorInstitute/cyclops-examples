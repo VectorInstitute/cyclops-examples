{
 "cells": [
  {
   "cell_type": "markdown",
   "metadata": {
    "id": "d6y9DI1XXF2y"
   },
   "source": [
    "# Excercise 03 - Evaluating the trained readmission model\n",
    "\n",
    "Welcome to the third hands-on excercise to learn about evaluating clinical ML using CyclOps!\n",
    "\n",
    "We will use a trained model, evaluate it across different patient subpopulations and across various metrics. At the end of this excercise, you will be able to:\n",
    "\n",
    "1. Run inference using a trained ML model, to generate predictions on a test dataset\n",
    "2. Evaluate the model on the test set across across different sub-groups"
   ]
  },
  {
   "cell_type": "markdown",
   "metadata": {
    "id": "TpK5KHfAXF29",
    "tags": []
   },
   "source": [
    "## Step 01 - Install CyclOps\n",
    "\n",
    "CyclOps is available as a [python package](https://pypi.org/project/pycyclops/) and can be installed using ``pip``. Note that we now install ``CyclOps`` with and extra dependency ``xgboost`` since we will be using the [xgboost](https://xgboost.readthedocs.io/en/stable/python/python_api.html) library.\n",
    "\n",
    "``Colab`` would ask you to restart the session, which is normal. Click on ``Restart Session`` and re-run the cell to install ``CyclOps``.\n",
    "\n",
    "**NOTE**: We uninstall ``cupy`` from the colab runtime to avoid conflicts with ``CyclOps`` which would attempt to use ``cupy`` if it is installed. Since the runtime does not support GPUs, we will uninstall ``cupy``."
   ]
  },
  {
   "cell_type": "code",
   "execution_count": null,
   "metadata": {
    "id": "gwS7bAZAXF29",
    "tags": []
   },
   "outputs": [],
   "source": [
    "!pip uninstall cupy-cuda12x -y\n",
    "!pip install 'pycyclops[xgboost]'\n",
    "!pip install ucimlrepo"
   ]
  },
  {
   "cell_type": "markdown",
   "metadata": {
    "id": "wBYJTBGGXF2-"
   },
   "source": [
    "## Step 02 - Create a model report class and learn about the different sections of the report!"
   ]
  },
  {
   "cell_type": "markdown",
   "metadata": {},
   "source": [
    "CyclOps offers a package for documentation of the model through a model report. The ``ModelReport`` class is used to populate and generate the model report as an HTML file. The model report has the following sections:\n",
    "\n",
    "#### Overview\n",
    "Provides a high level overview of how the model is doing (a quick glance of important metrics), and how it is doing over time (performance over several metrics and subgroups over time).\n",
    "#### Datasets\n",
    "High level statistics of the training data, including changes in distribution over time.\n",
    "\n",
    "#### Quantitative Analysis\n",
    "This section contains additional detailed performance metrics of the model for different sets of the data and subpopulations.\n",
    "\n",
    "#### Fairness Analysis\n",
    "This section contains the fairness metrics of the model.\n",
    "\n",
    "#### Model Details\n",
    "This section contains descriptive metadata about the model such as the owners, version, license, etc.\n",
    "\n",
    "#### Model Parameters\n",
    "This section contains the technical details of the model such as the model architecture, training parameters, etc.\n",
    "\n",
    "#### Considerations\n",
    "This section contains descriptions of the considerations involved in developing and using the model such as the intended use, limitations, etc."
   ]
  },
  {
   "cell_type": "markdown",
   "metadata": {},
   "source": [
    "Let's first go over the different methods available to log information to the report! Open the [API documentation link](https://vectorinstitute.github.io/cyclops/api/reference/api/_autosummary/cyclops.report.report.ModelCardReport.html#cyclops.report.report.ModelCardReport)."
   ]
  },
  {
   "cell_type": "markdown",
   "metadata": {},
   "source": [
    "Now we can create a report object and log some information to it!"
   ]
  },
  {
   "cell_type": "code",
   "execution_count": null,
   "metadata": {},
   "outputs": [],
   "source": [
    "from cyclops.report import ModelCardReport"
   ]
  },
  {
   "cell_type": "code",
   "execution_count": null,
   "metadata": {},
   "outputs": [],
   "source": [
    "report = ModelCardReport()"
   ]
  },
  {
   "cell_type": "markdown",
   "metadata": {},
   "source": [
    "Perhaps we can log some important information about the dataset for the end-user! Let's load the dataset and use the metadata to log some information to the ``dataset`` section of the report."
   ]
  },
  {
   "cell_type": "code",
   "execution_count": null,
   "metadata": {},
   "outputs": [],
   "source": [
    "import inspect\n",
    "from ucimlrepo import fetch_ucirepo"
   ]
  },
  {
   "cell_type": "code",
   "execution_count": null,
   "metadata": {},
   "outputs": [],
   "source": [
    "diabetes_130_data = fetch_ucirepo(\n",
    "    id=296\n",
    ")  # This ID specifically corresponds to the Diabetes 130 dataset\n",
    "features = diabetes_130_data[\"data\"][\"features\"]\n",
    "targets = diabetes_130_data[\"data\"][\"targets\"]\n",
    "metadata = diabetes_130_data[\"metadata\"]\n",
    "variables = diabetes_130_data[\"variables\"]"
   ]
  },
  {
   "cell_type": "code",
   "execution_count": null,
   "metadata": {
    "id": "Wr_GUXoQXF2-"
   },
   "outputs": [],
   "source": [
    "report.log_dataset(\n",
    "    description=metadata[\"abstract\"],\n",
    "    citation=inspect.cleandoc(\n",
    "        \"\"\"\n",
    "        @article{strack2014impact,\n",
    "          title={Impact of HbA1c measurement on hospital readmission rates: analysis of 70,000 clinical database patient records},\n",
    "          author={Strack, Beata and DeShazo, Jonathan P and Gennings, Chris and Olmo, Juan L and Ventura, Sebastian and Cios, Krzysztof J and Clore, John N and others},\n",
    "          journal={BioMed research international},\n",
    "          volume={2014},\n",
    "          year={2014},\n",
    "          publisher={Hindawi}\n",
    "        }\n",
    "    \"\"\",\n",
    "    ),\n",
    "    link=metadata[\"repository_url\"],\n",
    "    license_id=\"CC0-1.0\",\n",
    "    version=\"Version 1\",\n",
    "    features=list(features.columns),\n",
    "    sensitive_features=[\"gender\", \"age\", \"race\"],\n",
    "    sensitive_feature_justification=\"Demographic information like age and gender \\\n",
    "        often have a strong correlation with health outcomes. For example, older \\\n",
    "        patients are more likely to have a higher risk of readmission.\",\n",
    ")"
   ]
  }
 ],
 "metadata": {
  "colab": {
   "provenance": []
  },
  "kernelspec": {
   "display_name": "Python 3 (ipykernel)",
   "language": "python",
   "name": "python3"
  },
  "language_info": {
   "codemirror_mode": {
    "name": "ipython",
    "version": 3
   },
   "file_extension": ".py",
   "mimetype": "text/x-python",
   "name": "python",
   "nbconvert_exporter": "python",
   "pygments_lexer": "ipython3",
   "version": "3.10.12"
  }
 },
 "nbformat": 4,
 "nbformat_minor": 4
}
