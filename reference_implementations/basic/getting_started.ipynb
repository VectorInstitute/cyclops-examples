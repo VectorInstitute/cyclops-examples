{
 "cells": [
  {
   "cell_type": "markdown",
   "metadata": {
    "id": "IVqJ-vqDTz-x"
   },
   "source": [
    "# Excercise 01 - Getting Started\n",
    "\n",
    "Welcome to the first hands-on excercise to get started with CyclOps!\n",
    "\n",
    "We will go over the installation of CyclOps and introduce the core packages and APIs in this excercise. At the end of this excercise, you will be able to:\n",
    "\n",
    "1. Install the python package for cyclops\n",
    "2. Understand about the core packages within cyclops and their purpose\n",
    "3. Learn to go over the CyclOps API documentation and tutorials\n",
    "4. Explore an example clinical dataset which we will use in later excercises"
   ]
  },
  {
   "cell_type": "markdown",
   "metadata": {
    "id": "P8HS_ZKATz-0",
    "tags": []
   },
   "source": [
    "## Step 01 - Install CyclOps\n",
    "\n",
    "CyclOps is available as a [python package](https://pypi.org/project/pycyclops/) and can be installed using ``pip``.\n",
    "\n",
    "``Colab`` would ask you to restart the session, which is normal. Click on ``Restart Session`` and re-run the cell to install ``CyclOps``.\n",
    "\n",
    "**NOTE**: We uninstall ``cupy`` from the colab runtime to avoid conflicts with ``CyclOps`` which would attempt to use ``cupy`` if it is installed. Since the runtime does not support GPUs, we will uninstall ``cupy``."
   ]
  },
  {
   "cell_type": "code",
   "execution_count": null,
   "metadata": {
    "id": "cqFekacnTz-1",
    "tags": []
   },
   "outputs": [],
   "source": [
    "!pip uninstall cupy-cuda12x -y\n",
    "!pip install pycyclops\n",
    "!pip install ucimlrepo"
   ]
  },
  {
   "cell_type": "markdown",
   "metadata": {
    "id": "RnMTIGeZ_TzF"
   },
   "source": [
    "## Step 02 - ``CyclOps`` core packages\n",
    "\n",
    "``CyclOps`` has a few core packages that support functionality used for evaluation and monitoring. We will learn a bit more about the packages which we will use in today's workshop.\n",
    "\n",
    "1. ``data`` - The ``data`` package supports loading and processing data into features for your ML model. More importantly, it supports slicing of data across sub-groups which can be pretty useful for evaluating your ML model across patient subpopulations.\n",
    "2. ``evaluate`` - The ``evaluate`` package supports evaluation of your ML model. The package contains a ``metrics`` sub-package which supports common ML performance metrics such as ``Accuracy``, ``Sensitivity`` and ``Specificity``. Furthermore, the ``evaluate`` package also allows calculating fairness metrics which can be used to compare performance of sub-groups with respect to a reference group.\n",
    "3. ``report`` - The ``report`` package supports the creation of model monitoring reports. The package allows users to customize the reports to their use case.\n",
    "\n",
    "There are a few packages that support ML model development and benchmarking:\n",
    "\n",
    "4. ``models`` - The ``models`` package contains baseline model implementations\n",
    "using `scikit-learn`, `xgboost` and `pytorch` libraries. The package allows the user to easily train and evaluate models.\n",
    "5. ``tasks`` - The ``tasks`` package contains a few classes that implement classification tasks. These can be used for classification using tabular or image data, and are used to demonstrate example use cases.\n",
    "6. ``utils`` - The ``utils`` package contains useful utility functions for logging, development, saving and loading data."
   ]
  },
  {
   "cell_type": "code",
   "execution_count": null,
   "metadata": {
    "id": "8ngV6mqv_XFc"
   },
   "outputs": [],
   "source": [
    "import pkgutil\n",
    "import cyclops\n",
    "\n",
    "for package in pkgutil.iter_modules(cyclops.__path__):\n",
    "    print(package.name)"
   ]
  },
  {
   "cell_type": "markdown",
   "metadata": {
    "id": "9SdbLK6XyDU0"
   },
   "source": [
    "## Step 03 - Explore CyclOps user guide, API documentation and tutorials\n",
    "\n",
    "CyclOps provides detailed documentation available through the github repository. Simply click on the [landing page URL](https://vectorinstitute.github.io/cyclops/). From the landing page, you can navigate to the [API documentation](https://vectorinstitute.github.io/cyclops/api/).\n",
    "\n",
    "The API documentation starts with user guides that cover:\n",
    "\n",
    "1. Installation\n",
    "2. Evaluation\n",
    "3. Model Report\n",
    "4. Monitoring\n",
    "\n",
    "We will be covering all of the above tasks in today's workshop, however you can refer to the user guides when you wish to use CyclOps on your own."
   ]
  },
  {
   "cell_type": "markdown",
   "metadata": {
    "id": "AtVfRbDOmR2I"
   },
   "source": [
    "## Step 04 - Explore [Diabetes 130-US Hospitals for Years 1999-2008](https://archive.ics.uci.edu/dataset/296/diabetes+130-us+hospitals+for+years+1999-2008) dataset\n",
    "\n",
    "The [UC Irvine Machine Learning Repository](https://archive.ics.uci.edu/) provides several public datasets for research. They also provide a handy python package called [ucimlrepo](https://github.com/uci-ml-repo/ucimlrepo) for downloading datasets. We already installed this package, and now will use it to fetch the [Diabetes 130-US Hospitals for Years 1999-2008](https://archive.ics.uci.edu/dataset/296/diabetes+130-us+hospitals+for+years+1999-2008) dataset."
   ]
  },
  {
   "cell_type": "code",
   "execution_count": null,
   "metadata": {
    "id": "DwNbWvsTxNXg"
   },
   "outputs": [],
   "source": [
    "from ucimlrepo import fetch_ucirepo\n",
    "\n",
    "diabetes_130_data = fetch_ucirepo(\n",
    "    id=296\n",
    ")  # This ID specifically corresponds to the Diabetes 130 dataset\n",
    "features = diabetes_130_data[\"data\"][\"features\"]\n",
    "targets = diabetes_130_data[\"data\"][\"targets\"]\n",
    "metadata = diabetes_130_data[\"metadata\"]\n",
    "variables = diabetes_130_data[\"variables\"]"
   ]
  },
  {
   "cell_type": "code",
   "execution_count": null,
   "metadata": {
    "id": "dXIyF3qTxtpy"
   },
   "outputs": [],
   "source": [
    "metadata"
   ]
  },
  {
   "cell_type": "markdown",
   "metadata": {
    "id": "AOquKCTF0I4X"
   },
   "source": [
    "Let's visualize the distribution of the data with respect to a few key variables such as Age, Gender and the prediction outcome of interest. We will use the popular [plotly](https://plotly.com/python/) library to achieve this."
   ]
  },
  {
   "cell_type": "code",
   "execution_count": null,
   "metadata": {
    "id": "uVeTu-Me0aEg"
   },
   "outputs": [],
   "source": [
    "import plotly.express as px\n",
    "import plotly.graph_objects as go"
   ]
  },
  {
   "cell_type": "markdown",
   "metadata": {
    "id": "jouJcBTETz-6"
   },
   "source": [
    "### Distribution across gender\n",
    "\n",
    "We see a pretty balanced distribution across Male and Female genders. There is a small number of samples which seem to have missing/invalid values."
   ]
  },
  {
   "cell_type": "code",
   "execution_count": null,
   "metadata": {
    "id": "qkoG09teTz-7",
    "tags": []
   },
   "outputs": [],
   "source": [
    "fig = px.pie(features, names=\"gender\")\n",
    "fig.update_layout(\n",
    "    title=\"Gender Distribution\",\n",
    ")\n",
    "fig.show()"
   ]
  },
  {
   "cell_type": "markdown",
   "metadata": {
    "id": "1UmB-E_jTz-7"
   },
   "source": [
    "###  Distribution across age\n",
    "\n",
    "We see a slightly skewed normal distribution across age brackets. The majority of the patients are in the 70-80 age group."
   ]
  },
  {
   "cell_type": "code",
   "execution_count": null,
   "metadata": {
    "id": "tkk_7RDNTz-7",
    "tags": []
   },
   "outputs": [],
   "source": [
    "fig = px.histogram(features, x=\"age\")\n",
    "fig.update_layout(\n",
    "    title=\"Age Distribution\",\n",
    "    xaxis_title=\"Age\",\n",
    "    yaxis_title=\"Count\",\n",
    "    bargap=0.2,\n",
    ")\n",
    "fig.show()"
   ]
  },
  {
   "cell_type": "markdown",
   "metadata": {
    "id": "OiZarTLW4JWu"
   },
   "source": [
    "###  Distribution across race\n",
    "\n",
    "We see a very unbalanced distribution across races. We have very few samples for Asian and Hispanic populations. This distribution is partially indicative of the patient population and hence the demographics of the region. However, it is also indicative of a bias in the data which could stem from socio-demographic inequalities (i.e. access to healthcare)."
   ]
  },
  {
   "cell_type": "code",
   "execution_count": null,
   "metadata": {
    "id": "MgNN5ZIw4L1o"
   },
   "outputs": [],
   "source": [
    "fig = px.histogram(features, x=\"race\")\n",
    "fig.update_layout(\n",
    "    title=\"Race Distribution\",\n",
    "    xaxis_title=\"Race\",\n",
    "    yaxis_title=\"Count\",\n",
    "    bargap=0.2,\n",
    ")\n",
    "fig.show()"
   ]
  },
  {
   "cell_type": "markdown",
   "metadata": {},
   "source": [
    "## Missing values\n",
    "\n",
    "Let's see how much missing data there is, and which variables have the most missing values."
   ]
  },
  {
   "cell_type": "code",
   "execution_count": null,
   "metadata": {},
   "outputs": [],
   "source": [
    "null_counts = features.isnull().sum()[features.isnull().sum() > 0]\n",
    "fig = go.Figure(data=[go.Bar(x=null_counts.index, y=null_counts.values)])\n",
    "fig.update_layout(\n",
    "    title=\"Number of Null Values per Column\",\n",
    "    xaxis_title=\"Columns\",\n",
    "    yaxis_title=\"Number of Null Values\",\n",
    ")\n",
    "fig.show()"
   ]
  },
  {
   "cell_type": "markdown",
   "metadata": {
    "id": "Ly58W4d3Tz-8"
   },
   "source": [
    "### Readmission distribution\n",
    "\n",
    "The dataset represents ten years (1999-2008) of clinical care at 130 US hospitals and integrated delivery networks. It includes over 50 features representing patient and hospital outcomes. Information was extracted from the database for encounters that satisfied the following criteria:\n",
    "\n",
    "1. It is an inpatient encounter (a hospital admission).\n",
    "2. It is a diabetic encounter, that is, one during which any kind of diabetes was entered into the system as a diagnosis.\n",
    "3. The length of stay was at least 1 day and at most 14 days.\n",
    "4. Laboratory tests were performed during the encounter.\n",
    "5. Medications were administered during the encounter.\n",
    "\n",
    "It also contains ``Days to inpatient readmission``. Values: ``<30`` if the patient was readmitted in less than 30 days, ``>30`` if the patient was readmitted in more than 30 days, and ``No`` for no record of readmission.\n",
    "\n",
    "Using this information we could predict early readmission of the patient within 30 days of discharge. This problem is important for the following reasons:\n",
    "\n",
    "1. Despite high-quality evidence showing improved clinical outcomes for diabetic patients who receive various preventive and therapeutic interventions, many patients do not receive them. This can be partially attributed to arbitrary diabetes management in hospital environments, which fail to attend to glycemic control.\n",
    "2. Failure to provide proper diabetes care not only increases the managing costs for the hospitals (as the patients are readmitted) but also impacts the morbidity and mortality of the patients, who may face complications associated with diabetes."
   ]
  },
  {
   "cell_type": "code",
   "execution_count": null,
   "metadata": {
    "id": "KX2fq1ncTz-8",
    "tags": []
   },
   "outputs": [],
   "source": [
    "fig = px.pie(targets, names=\"readmitted\")\n",
    "fig.update_traces(textinfo=\"percent+label\")\n",
    "fig.update_layout(title_text=\"Outcome Distribution\")\n",
    "fig.update_traces(\n",
    "    hovertemplate=\"Outcome: %{label}<br>Count: \\\n",
    "    %{value}<br>Percent: %{percent}\",\n",
    ")\n",
    "fig.show()"
   ]
  }
 ],
 "metadata": {
  "colab": {
   "provenance": []
  },
  "kernelspec": {
   "display_name": "Python 3 (ipykernel)",
   "language": "python",
   "name": "python3"
  },
  "language_info": {
   "codemirror_mode": {
    "name": "ipython",
    "version": 3
   },
   "file_extension": ".py",
   "mimetype": "text/x-python",
   "name": "python",
   "nbconvert_exporter": "python",
   "pygments_lexer": "ipython3",
   "version": "3.10.12"
  }
 },
 "nbformat": 4,
 "nbformat_minor": 4
}
